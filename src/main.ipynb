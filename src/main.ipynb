{
 "cells": [
  {
   "cell_type": "markdown",
   "metadata": {},
   "source": [
    "# Расчетная работа по курсу: Теория вероятности и статистика\n",
    "### Вводим константы по варианту"
   ]
  },
  {
   "cell_type": "code",
   "execution_count": 1,
   "metadata": {},
   "outputs": [],
   "source": [
    "N = 500         # Размер выборки\n",
    "MX = 3.9        # Мат. ожидание (mean) - средняя\n",
    "DX = 4.3        # Дисперсия, если взять корень будет ср. квадратичное отклонение\n",
    "GAMMA = 0.9     # Доверительная вероятность\n",
    "ALPHA = 0.025   # Уровень значимости"
   ]
  }
 ],
 "metadata": {
  "kernelspec": {
   "display_name": "venv",
   "language": "python",
   "name": "python3"
  },
  "language_info": {
   "codemirror_mode": {
    "name": "ipython",
    "version": 3
   },
   "file_extension": ".py",
   "mimetype": "text/x-python",
   "name": "python",
   "nbconvert_exporter": "python",
   "pygments_lexer": "ipython3",
   "version": "3.12.1"
  }
 },
 "nbformat": 4,
 "nbformat_minor": 2
}
