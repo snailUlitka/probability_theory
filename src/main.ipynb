{
 "cells": [
  {
   "cell_type": "markdown",
   "metadata": {},
   "source": [
    "# Расчетная работа по курсу: Теория вероятности и статистика"
   ]
  },
  {
   "cell_type": "markdown",
   "metadata": {},
   "source": [
    "### Импортируем все необходимые библиотеки\n",
    "\n",
    "Здесь:\n",
    "- Numpy и его подмодули:\n",
    "    - `numpy` - общий модуль для работы с тензорами и статистических вычислений\n",
    "    - `PCG64` - генератор псевдослучайных значени\n",
    "    - `Generator` - оболочка для генератора\n",
    "\n",
    "- MatPlotLib и Seaborn:\n",
    "    - `matplotlib.pyplot` - ядро для `seaborn`\n",
    "    - `seaborn` - для красивых графиков"
   ]
  },
  {
   "cell_type": "code",
   "execution_count": 2,
   "metadata": {},
   "outputs": [],
   "source": [
    "import numpy as np\n",
    "from numpy.random import PCG64\n",
    "from numpy.random import Generator\n",
    "\n",
    "import matplotlib.pyplot as plt\n",
    "import seaborn as sns"
   ]
  },
  {
   "cell_type": "markdown",
   "metadata": {},
   "source": [
    "### Вводим константы по варианту и seed для повторяемости результатов"
   ]
  },
  {
   "cell_type": "code",
   "execution_count": 3,
   "metadata": {},
   "outputs": [],
   "source": [
    "N = 500             # Размер выборки\n",
    "MX = 3.9            # Мат. ожидание (mean) - средняя\n",
    "DX = 4.3            # Дисперсия\n",
    "SIGMA = np.sqrt(DX) # Корень от дисперсии это ср. квадратичное отклонение\n",
    "GAMMA = 0.9         # Доверительная вероятность\n",
    "ALPHA = 0.025       # Уровень значимости\n",
    "\n",
    "SEED = 228          # Для повторения результатов"
   ]
  },
  {
   "cell_type": "markdown",
   "metadata": {},
   "source": [
    "### 1.0 Функция нормального (Гауссовского) распределения случайной величины\n",
    "$$p(x)=\\frac{1}{\\sigma\\sqrt{2\\pi}}e^{-\\frac{(x-a)^{2}}{2\\sigma^{2}}}$$\n",
    "\n",
    "Для получения этой функции воспользуемся `numpy`"
   ]
  },
  {
   "cell_type": "code",
   "execution_count": 4,
   "metadata": {},
   "outputs": [
    {
     "name": "stdout",
     "output_type": "stream",
     "text": [
      "Первые 6 значений вектора:\n",
      "5.11237389, 5.17708135, 3.88199416, 3.44511755, 7.00590171, 6.98188791...\n",
      "Размерность тензора: (500,)\n"
     ]
    }
   ],
   "source": [
    "bit_generator = PCG64(SEED)\n",
    "x = Generator(bit_generator).normal(loc=MX, scale=SIGMA, size=N)\n",
    "print(f\"Первые 6 значений вектора:\\n{str(x[:6])[1:-1].replace(' ', ', ')}...\")\n",
    "print(f\"Размерность тензора: {x.shape}\")"
   ]
  },
  {
   "cell_type": "markdown",
   "metadata": {},
   "source": [
    "### 1.1 Гистограмма полученного вектора выборки и теоретической\n",
    "Получанный вектор:"
   ]
  },
  {
   "cell_type": "code",
   "execution_count": 5,
   "metadata": {},
   "outputs": [
    {
     "data": {
      "image/png": "[encoded data removed]",
      "text/plain": [
       "<Figure size 640x480 with 1 Axes>"
      ]
     },
     "metadata": {},
     "output_type": "display_data"
    }
   ],
   "source": [
    "_, theoretic_x, _ = plt.hist(x, 30, density=True)\n",
    "\n",
    "theoretic_normal_distribution = 1 / \\\n",
    "    (SIGMA * np.sqrt(2 * np.pi)) * \\\n",
    "    np.exp(- (theoretic_x - MX)**2 / (2 * SIGMA**2))\n",
    "\n",
    "plt.plot(theoretic_x, theoretic_normal_distribution, linewidth=3, color='r')\n",
    "plt.show()"
   ]
  },
  {
   "cell_type": "markdown",
   "metadata": {},
   "source": [
    "### 1.2 Выборчная средняя и дисперсия"
   ]
  },
  {
   "cell_type": "markdown",
   "metadata": {},
   "source": [
    "Формула для выборочной средней:\n",
    "\n",
    "$$\\bar{x} = \\frac{1}{n}\\sum_{i=0}^{n-1}x_{i}$$\n",
    "\n",
    "Формула для выборочной дисперсии:\n",
    "\n",
    "$$s^2 = \\frac{1}{n}\\sum_{i=0}^{n-1}(x_{i}-\\bar{x})^2$$"
   ]
  },
  {
   "cell_type": "code",
   "execution_count": 11,
   "metadata": {},
   "outputs": [
    {
     "name": "stdout",
     "output_type": "stream",
     "text": [
      "Выборочная средняя: 3.8194467898700792\n",
      "Выборочная дисперсия: 4.1251165916319295\n"
     ]
    }
   ],
   "source": [
    "sample_average = x.sum() / N\n",
    "\n",
    "sum_tmp = 0\n",
    "\n",
    "for i in range(0, N):\n",
    "    sum_tmp += (x[i] - sample_average) ** 2\n",
    "    \n",
    "sample_variance = sum_tmp / N\n",
    "\n",
    "print(f\"Выборочная средняя: {sample_average}\\nВыборочная дисперсия: {sample_variance}\")"
   ]
  }
 ],
 "metadata": {
  "kernelspec": {
   "display_name": "venv",
   "language": "python",
   "name": "python3"
  },
  "language_info": {
   "codemirror_mode": {
    "name": "ipython",
    "version": 3
   },
   "file_extension": ".py",
   "mimetype": "text/x-python",
   "name": "python",
   "nbconvert_exporter": "python",
   "pygments_lexer": "ipython3",
   "version": "3.12.1"
  }
 },
 "nbformat": 4,
 "nbformat_minor": 2
}
