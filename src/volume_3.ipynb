{
 "cells": [
  {
   "cell_type": "markdown",
   "metadata": {},
   "source": [
    "# Расчетная работа по курсу: Теория вероятности и статистика<br/>Раздел 2"
   ]
  },
  {
   "cell_type": "markdown",
   "metadata": {},
   "source": [
    "## Импортируем все необходимые библиотеки\n",
    "\n",
    "Здесь:\n",
    "- Numpy (`numpy` или `np`) - общий модуль для работы с тензорами и статистических вычислений\n",
    "\n",
    "- SciPy\n",
    "    - `stats` - для получения равномерно распределенной случайной величины из модуля `uniform`\n",
    "\n",
    "- MatPlotLib (`matplotlib.pyplot` или `plt`) - для графиков\n",
    "\n",
    "- Regex (`re`) - встроенный модуль для работы с регулярными выражениями"
   ]
  },
  {
   "cell_type": "code",
   "execution_count": 1,
   "metadata": {},
   "outputs": [],
   "source": [
    "import numpy as np\n",
    "\n",
    "from scipy import stats\n",
    "from scipy import optimize\n",
    "import scipy.integrate as integrate\n",
    "\n",
    "import matplotlib.pyplot as plt\n",
    "\n",
    "import re"
   ]
  },
  {
   "cell_type": "markdown",
   "metadata": {},
   "source": [
    "## Вводим данные по варианту и `SEED` для повторяемости результатов\n",
    "Константы:\n",
    "<br/>$n=500$\n",
    "<br/>\n",
    "<br/>$MX=3.9$\n",
    "<br/>$MY=-0.7$\n",
    "<br/>\n",
    "<br/>$DX=4.3$\n",
    "<br/>$DY=12.96$\n",
    "<br/>\n",
    "<br/>$r_{XY}=-0.05$\n",
    "<br/>\n",
    "<br/>$\\gamma=0.9$\n",
    "<br/>$\\alpha=0.025$\n",
    "\n",
    "<br/><br/>Где:\n",
    "<br/>$n$ - объем выборки\n",
    "<br/>$MX, MY$ - мат. ожидание случайных величин $X$ и $Y$ соотвественно\n",
    "<br/>$DX, DY$ - дисперсия случайных величин $X$ и $Y$ соотвественно\n",
    "<br/>\n",
    "<br/>$r_{XY}$ - нормированный корреляционный момент, высчитывается по формуле $r_{XY}=\\dfrac{R_{XY}}{\\sigma_X \\sigma_Y}$\n",
    "<br/>\n",
    "<br/>$R_{XY}$ - корреляционный момент, высчитывается по формуле $R_{XY} = \\textit{MXY} - \\textit{MX} \\ \\textit{MY}$\n",
    "<br/>\n",
    "<br/>$\\alpha$ - уровень значимости\n",
    "<br/>$\\gamma$ - доверительный интервал"
   ]
  },
  {
   "cell_type": "code",
   "execution_count": 2,
   "metadata": {},
   "outputs": [],
   "source": [
    "n = 500      # Объем выборки\n",
    "\n",
    "MX = 3.9     # Мат. ожидание X\n",
    "MY = -0.7    # Мат. ожидание Y\n",
    "\n",
    "DX = 4.3     # Дисперсия X\n",
    "DY = 12.96   # Дисперсия Y\n",
    "\n",
    "r = -0.05    # Нормированный корреляционный момент\n",
    "\n",
    "SEED = 0     # Для повторяемости результатов\n",
    "\n",
    "SIGMA_X = np.sqrt(DX)\n",
    "SIGMA_Y = np.sqrt(DY)"
   ]
  },
  {
   "cell_type": "markdown",
   "metadata": {},
   "source": [
    "## 3.0 Моделирование случайной величины"
   ]
  },
  {
   "cell_type": "markdown",
   "metadata": {},
   "source": [
    "### 3.0.1 Для моделирования случайной величины необходимо найти корреляционную матрицу $R_{XY}$"
   ]
  },
  {
   "cell_type": "markdown",
   "metadata": {},
   "source": [
    "Корреляционная матрица находиться по следующей формуле:\n",
    "$$\\displaystyle\n",
    "    R = \\begin{pmatrix}\n",
    "            DX & R_{XY} \\\\\n",
    "            R_{XY} & DY\n",
    "        \\end{pmatrix}\n",
    "$$\n",
    "\n",
    "Где корреляционный момент $R_{XY}$, считается по формуле:\n",
    "$$\\displaystyle\n",
    "    R_{XY} = \\textit{MXY} - \\textit{MX} \\ \\textit{MY}\n",
    "$$\n",
    "Но из-за известного нормированого корреляционного момента, будем считать так:\n",
    "$$\\displaystyle\n",
    "    r_{XY}=\\frac{R_{XY}}{\\sigma_X \\sigma_Y} \\Rightarrow R_{XY} = r_{XY} \\sigma_X \\sigma_Y\n",
    "$$"
   ]
  },
  {
   "cell_type": "code",
   "execution_count": 3,
   "metadata": {},
   "outputs": [
    {
     "name": "stdout",
     "output_type": "stream",
     "text": [
      "Корреляционный момент: -0.37325594435989895\n"
     ]
    }
   ],
   "source": [
    "R_XY = r * SIGMA_X * SIGMA_Y\n",
    "print(f\"Корреляционный момент: {R_XY}\")"
   ]
  },
  {
   "cell_type": "markdown",
   "metadata": {},
   "source": [
    "Тогда корреляционная матрица:"
   ]
  },
  {
   "cell_type": "code",
   "execution_count": 4,
   "metadata": {},
   "outputs": [
    {
     "name": "stdout",
     "output_type": "stream",
     "text": [
      "Корреляционная матрица: \n",
      "( 4.3  , -0.373)\n",
      "(-0.373,  12.96)\n"
     ]
    }
   ],
   "source": [
    "R = (\n",
    "    (DX, R_XY),\n",
    "    (R_XY, DY)\n",
    ")\n",
    "print(f\"Корреляционная матрица: \\n( {DX}  , {np.round(R_XY, 3)})\\n({np.round(R_XY, 3)},  {DY})\")"
   ]
  },
  {
   "cell_type": "markdown",
   "metadata": {},
   "source": [
    "### 3.0.2 Моделируем случайный вектор используя `stats.multivariate_normal.rvs`\n",
    "В функцию необходимо передать значения мат. ожиданий и корреляционную матрицу."
   ]
  },
  {
   "cell_type": "code",
   "execution_count": 5,
   "metadata": {},
   "outputs": [
    {
     "name": "stdout",
     "output_type": "stream",
     "text": [
      "Первые пара значений вектора (X, Y):\n",
      "(4.45433981 5.68424789), (8.38230643 3.02173509)...\n"
     ]
    }
   ],
   "source": [
    "vector_XY: np.ndarray = stats.multivariate_normal.rvs(mean=(MX, MY), cov=R, size=n, random_state=SEED * 20)\n",
    "x: np.ndarray = vector_XY[:, 0]\n",
    "y: np.ndarray = vector_XY[:, 1]\n",
    "\n",
    "\n",
    "print(f\"Первые пара значений вектора (X, Y):\\n({str(vector_XY[0])[1:-1]}), ({str(vector_XY[1])[1:-1]})...\")"
   ]
  },
  {
   "cell_type": "markdown",
   "metadata": {},
   "source": [
    "## 3.1 Найти точечные оценки параметров распределения\n",
    "То есть $MX$, $MY$, $DX$, $DY$, $r_{XY}$"
   ]
  },
  {
   "cell_type": "markdown",
   "metadata": {},
   "source": [
    "### 3.1.1 Найдем MX и DX"
   ]
  },
  {
   "cell_type": "markdown",
   "metadata": {},
   "source": [
    "Ищем выборочную среднюю и дисперсию, для этого воспользуемся формулами:\n",
    "$$\\displaystyle\n",
    "    \\bar{X} = \\frac 1n \\sum^n_{i=1} x_i\n",
    "$$\n",
    "\n",
    "$$\\displaystyle\n",
    "    S^2_X = \\frac 1n \\sum^n_{i=1} (x_i - \\bar{X})^2\n",
    "$$"
   ]
  },
  {
   "cell_type": "code",
   "execution_count": 6,
   "metadata": {},
   "outputs": [
    {
     "name": "stdout",
     "output_type": "stream",
     "text": [
      "Выборочная  средняя  X: 3.8581186729657255\n",
      "Выборочная дисперсия X: 4.304722268579281\n",
      "\n"
     ]
    }
   ],
   "source": [
    "sample_average_X = x.sum() / n\n",
    "\n",
    "sum_tmp = 0\n",
    "\n",
    "for i in range(n):\n",
    "    sum_tmp += (x[i] - sample_average_X) ** 2\n",
    "\n",
    "sample_variance_X = sum_tmp / n\n",
    "\n",
    "print(\n",
    "    f\"Выборочная  средняя  X: {sample_average_X}\\n\" +\n",
    "    f\"Выборочная дисперсия X: {sample_variance_X}\\n\"\n",
    ")"
   ]
  },
  {
   "cell_type": "markdown",
   "metadata": {},
   "source": [
    "### 3.1.2 Найдем MY и DY"
   ]
  },
  {
   "cell_type": "markdown",
   "metadata": {},
   "source": [
    "Снова ищем выборочные значения:\n",
    "$$\\displaystyle\n",
    "    \\bar{Y} = \\frac 1n \\sum^n_{i=1} x_i\n",
    "$$\n",
    "\n",
    "$$\\displaystyle\n",
    "    S^2_Y = \\frac 1n \\sum^n_{i=1} (x_i - \\bar{Y})^2\n",
    "$$"
   ]
  },
  {
   "cell_type": "code",
   "execution_count": 7,
   "metadata": {},
   "outputs": [
    {
     "name": "stdout",
     "output_type": "stream",
     "text": [
      "Выборочная  средняя  Y: -0.9374818083913952\n",
      "Выборочная дисперсия Y: 12.277260021515875\n",
      "\n"
     ]
    }
   ],
   "source": [
    "sample_average_Y = y.sum() / n\n",
    "\n",
    "sum_tmp = 0\n",
    "\n",
    "for i in range(n):\n",
    "    sum_tmp += (y[i] - sample_average_Y) ** 2\n",
    "\n",
    "sample_variance_Y = sum_tmp / n\n",
    "\n",
    "print(\n",
    "    f\"Выборочная  средняя  Y: {sample_average_Y}\\n\" +\n",
    "    f\"Выборочная дисперсия Y: {sample_variance_Y}\\n\"\n",
    ")"
   ]
  },
  {
   "cell_type": "markdown",
   "metadata": {},
   "source": [
    "### 3.1.3 Найдем коэффицент корреляции"
   ]
  },
  {
   "cell_type": "markdown",
   "metadata": {},
   "source": [
    "Выборочный коэффицент корреляции находят по этой формуле:\n",
    "$$\n",
    "    \\hat{r}_{XY} = \\dfrac{\n",
    "                            \\displaystyle\\sum^n_{i=1}x_i y_i - n \\bar{X} \\bar{Y}\n",
    "                        }\n",
    "                        {\\sqrt{\n",
    "                            \\Big( \n",
    "                                \\displaystyle\\sum^n_{i=1}x_i^2 - n \\bar{X}^2 \n",
    "                            \\Big)\n",
    "                            \\Big( \n",
    "                                \\displaystyle\\sum^n_{i=1}y_i^2 - n \\bar{Y}^2 \n",
    "                            \\Big)}\n",
    "                        }\n",
    "$$"
   ]
  },
  {
   "cell_type": "code",
   "execution_count": 8,
   "metadata": {},
   "outputs": [
    {
     "name": "stdout",
     "output_type": "stream",
     "text": [
      "Выборочный коффицент корреляции: -0.05777788554806056\n"
     ]
    }
   ],
   "source": [
    "sample_r = np.sum(x * y) - n * sample_average_X * sample_average_Y\n",
    "sample_r /= np.sqrt((np.sum(x**2) - n * sample_average_X**2) * (np.sum(y**2) - n * sample_average_Y**2))\n",
    "\n",
    "print(f\"Выборочный коффицент корреляции: {sample_r}\")"
   ]
  },
  {
   "cell_type": "markdown",
   "metadata": {},
   "source": [
    "## 3.2 Проверить гипотезу о независимости случайных величин $X$ и $Y$"
   ]
  },
  {
   "cell_type": "markdown",
   "metadata": {},
   "source": [
    "### 3.2.1 Группируем выборочные данные и ищем частоты"
   ]
  },
  {
   "cell_type": "markdown",
   "metadata": {},
   "source": [
    "#### Сначала для $X$"
   ]
  },
  {
   "cell_type": "markdown",
   "metadata": {},
   "source": [
    "##### Строим вариационный ряд"
   ]
  },
  {
   "cell_type": "code",
   "execution_count": 9,
   "metadata": {},
   "outputs": [
    {
     "name": "stdout",
     "output_type": "stream",
     "text": [
      "Вариационный ряд X: -2.33823126, -1.91126893, -1.89510633, -1.85981005...\n"
     ]
    }
   ],
   "source": [
    "var_ser_x = x.copy()\n",
    "var_ser_x.sort()\n",
    "print(f\"Вариационный ряд X: {re.sub(\" +\", \", \", str(var_ser_x[:4])[1:-1])}...\")"
   ]
  },
  {
   "cell_type": "markdown",
   "metadata": {},
   "source": [
    "##### Разбиваем на непересекающиеся интервалы\n",
    "Найдем мин. и макс. значение в ряде"
   ]
  },
  {
   "cell_type": "code",
   "execution_count": 10,
   "metadata": {},
   "outputs": [
    {
     "name": "stdout",
     "output_type": "stream",
     "text": [
      "Минимальное: -2.338231255006906\n",
      "Максимальное: 9.531457700879269\n"
     ]
    }
   ],
   "source": [
    "print(f\"Минимальное: {min(var_ser_x)}\")\n",
    "print(f\"Максимальное: {max(var_ser_x)}\")"
   ]
  },
  {
   "cell_type": "markdown",
   "metadata": {},
   "source": [
    "Кол-во интервалов, $N = K = L = [1+3.32 \\lg n] + 1 = 10$"
   ]
  },
  {
   "cell_type": "code",
   "execution_count": 11,
   "metadata": {},
   "outputs": [],
   "source": [
    "N = 3"
   ]
  },
  {
   "cell_type": "markdown",
   "metadata": {},
   "source": [
    "Считаем длины интервалов: $$h=\\frac{x_{max}-x_{min}}{N}$$"
   ]
  },
  {
   "cell_type": "code",
   "execution_count": 12,
   "metadata": {},
   "outputs": [
    {
     "name": "stdout",
     "output_type": "stream",
     "text": [
      "Длина интервала: 3.956562985295392\n"
     ]
    }
   ],
   "source": [
    "h_X = (max(var_ser_x) - min(var_ser_x)) / N\n",
    "print(f\"Длина интервала: {h_X}\")"
   ]
  },
  {
   "cell_type": "markdown",
   "metadata": {},
   "source": [
    "##### Получаем интервалы"
   ]
  },
  {
   "cell_type": "code",
   "execution_count": 13,
   "metadata": {},
   "outputs": [
    {
     "name": "stdout",
     "output_type": "stream",
     "text": [
      "Интервал 1: [-2.338231255006906, 1.6183317302884856)\n",
      "Интервал 2: [1.6183317302884856, 5.574894715583877)\n",
      "Интервал 3: [5.574894715583877, 9.531457700879269)\n"
     ]
    }
   ],
   "source": [
    "J_X = [[min(var_ser_x) + k * h_X, min(var_ser_x) + (k + 1) * h_X] for k in range(N)]\n",
    "\n",
    "for (i, interval) in enumerate(J_X):\n",
    "    print(f\"Интервал {i + 1}: {str(interval)[:-1]})\")"
   ]
  },
  {
   "cell_type": "markdown",
   "metadata": {},
   "source": [
    "Разбиваем на интервалы"
   ]
  },
  {
   "cell_type": "code",
   "execution_count": 14,
   "metadata": {},
   "outputs": [],
   "source": [
    "stat_series_X = [[] for _ in range(len(J_X))]\n",
    "\n",
    "for xi in var_ser_x:\n",
    "    for i in range(len(J_X)):\n",
    "        if (J_X[i][0] <= xi < J_X[i][1]):\n",
    "            stat_series_X[i].append(xi)\n",
    "stat_series_X[-1].append(max(var_ser_x))"
   ]
  },
  {
   "cell_type": "markdown",
   "metadata": {},
   "source": [
    "##### Теперь подсчитаем частоты"
   ]
  },
  {
   "cell_type": "code",
   "execution_count": 15,
   "metadata": {},
   "outputs": [
    {
     "name": "stdout",
     "output_type": "stream",
     "text": [
      "Частоты: [73, 325, 102]\n",
      "Сумма частот: 500\n",
      "\n",
      "Относительные частоты: [0.146, 0.65, 0.204]\n",
      "Сумма относительных частот: 1.0\n"
     ]
    }
   ],
   "source": [
    "frequencies_X = []\n",
    "\n",
    "for interval in stat_series_X:\n",
    "    frequencies_X.append(len(interval))\n",
    "\n",
    "relative_frequencies_X = [frequency / n for frequency in frequencies_X]\n",
    "\n",
    "print(f\"Частоты: {frequencies_X}\")\n",
    "print(f\"Сумма частот: {sum(frequencies_X)}\", end=\"\\n\\n\")\n",
    "\n",
    "print(f\"Относительные частоты: {relative_frequencies_X}\")\n",
    "print(f\"Сумма относительных частот: {sum(relative_frequencies_X)}\")"
   ]
  },
  {
   "cell_type": "markdown",
   "metadata": {},
   "source": [
    "#### Теперь для $Y$"
   ]
  },
  {
   "cell_type": "markdown",
   "metadata": {},
   "source": [
    "##### Строим вариационный ряд"
   ]
  },
  {
   "cell_type": "code",
   "execution_count": 16,
   "metadata": {},
   "outputs": [
    {
     "name": "stdout",
     "output_type": "stream",
     "text": [
      "Вариационный ряд X: -10.21615725, -10.09788617, -9.82980944, -9.20661768...\n"
     ]
    }
   ],
   "source": [
    "var_ser_y = y.copy()\n",
    "var_ser_y.sort()\n",
    "print(f\"Вариационный ряд X: {re.sub(\" +\", \", \", str(var_ser_y[:4])[1:-1])}...\")"
   ]
  },
  {
   "cell_type": "markdown",
   "metadata": {},
   "source": [
    "##### Разбиваем на непересекающиеся интервалы\n",
    "Найдем мин. и макс. значение в ряде"
   ]
  },
  {
   "cell_type": "code",
   "execution_count": 17,
   "metadata": {},
   "outputs": [
    {
     "name": "stdout",
     "output_type": "stream",
     "text": [
      "Минимальное: -10.21615725060077\n",
      "Максимальное: 8.996865961719875\n"
     ]
    }
   ],
   "source": [
    "print(f\"Минимальное: {min(var_ser_y)}\")\n",
    "print(f\"Максимальное: {max(var_ser_y)}\")"
   ]
  },
  {
   "cell_type": "markdown",
   "metadata": {},
   "source": [
    "Считаем длины интервалов: $$h=\\frac{x_{max}-x_{min}}{N}$$"
   ]
  },
  {
   "cell_type": "code",
   "execution_count": 18,
   "metadata": {},
   "outputs": [
    {
     "name": "stdout",
     "output_type": "stream",
     "text": [
      "Длина интервала: 6.4043410707735475\n"
     ]
    }
   ],
   "source": [
    "h_Y = (max(var_ser_y) - min(var_ser_y)) / N\n",
    "print(f\"Длина интервала: {h_Y}\")"
   ]
  },
  {
   "cell_type": "markdown",
   "metadata": {},
   "source": [
    "##### Получаем интервалы"
   ]
  },
  {
   "cell_type": "code",
   "execution_count": 19,
   "metadata": {},
   "outputs": [
    {
     "name": "stdout",
     "output_type": "stream",
     "text": [
      "Интервал 1: [-10.21615725060077, -3.811816179827222)\n",
      "Интервал 2: [-3.811816179827222, 2.5925248909463257)\n",
      "Интервал 3: [2.5925248909463257, 8.996865961719873)\n"
     ]
    }
   ],
   "source": [
    "J_Y = [[min(var_ser_y) + k * h_Y, min(var_ser_y) + (k + 1) * h_Y] for k in range(N)]\n",
    "\n",
    "for (i, interval) in enumerate(J_Y):\n",
    "    print(f\"Интервал {i + 1}: {str(interval)[:-1]})\")"
   ]
  },
  {
   "cell_type": "markdown",
   "metadata": {},
   "source": [
    "Разбиваем на интервалы"
   ]
  },
  {
   "cell_type": "code",
   "execution_count": 20,
   "metadata": {},
   "outputs": [],
   "source": [
    "stat_series_Y = [[] for _ in range(len(J_Y))]\n",
    "\n",
    "for yi in var_ser_y:\n",
    "    for i in range(len(J_Y)):\n",
    "        if (J_Y[i][0] <= yi < J_Y[i][1]):\n",
    "            stat_series_Y[i].append(yi)\n",
    "stat_series_Y[-1].append(max(var_ser_y))"
   ]
  },
  {
   "cell_type": "markdown",
   "metadata": {},
   "source": [
    "##### Теперь подсчитаем частоты"
   ]
  },
  {
   "cell_type": "code",
   "execution_count": 21,
   "metadata": {},
   "outputs": [
    {
     "name": "stdout",
     "output_type": "stream",
     "text": [
      "Частоты: [101, 317, 82]\n",
      "Сумма частот: 500\n",
      "\n",
      "Относительные частоты: [0.202, 0.634, 0.164]\n",
      "Сумма относительных частот: 1.0\n"
     ]
    }
   ],
   "source": [
    "frequencies_Y = []\n",
    "\n",
    "for interval in stat_series_Y:\n",
    "    frequencies_Y.append(len(interval))\n",
    "\n",
    "relative_frequencies_Y = [frequency / n for frequency in frequencies_Y]\n",
    "\n",
    "print(f\"Частоты: {frequencies_Y}\")\n",
    "print(f\"Сумма частот: {sum(frequencies_Y)}\", end=\"\\n\\n\")\n",
    "\n",
    "print(f\"Относительные частоты: {relative_frequencies_Y}\")\n",
    "print(f\"Сумма относительных частот: {sum(relative_frequencies_Y)}\")"
   ]
  },
  {
   "cell_type": "markdown",
   "metadata": {},
   "source": [
    "#### Теперь частоты прямоуголников, то есть $\\nu_{ij}$"
   ]
  },
  {
   "cell_type": "markdown",
   "metadata": {},
   "source": [
    "##### Найдем прямоугольники"
   ]
  },
  {
   "cell_type": "code",
   "execution_count": 22,
   "metadata": {},
   "outputs": [
    {
     "name": "stdout",
     "output_type": "stream",
     "text": [
      "Прямоугольник 1:\n",
      "\tСторона X: [-2.338  1.618)\n",
      "\tСторона Y: [-10.216  -3.812)\n",
      "Прямоугольник 2:\n",
      "\tСторона X: [-2.338  1.618)\n",
      "\tСторона Y: [-3.812  2.593)\n",
      "Прямоугольник 3:\n",
      "\tСторона X: [-2.338  1.618)\n",
      "\tСторона Y: [2.593 8.997)\n",
      "Прямоугольник 4:\n",
      "\tСторона X: [1.618 5.575)\n",
      "\tСторона Y: [-10.216  -3.812)\n",
      "Прямоугольник 5:\n",
      "\tСторона X: [1.618 5.575)\n",
      "\tСторона Y: [-3.812  2.593)\n",
      "Прямоугольник 6:\n",
      "\tСторона X: [1.618 5.575)\n",
      "\tСторона Y: [2.593 8.997)\n",
      "Прямоугольник 7:\n",
      "\tСторона X: [5.575 9.531)\n",
      "\tСторона Y: [-10.216  -3.812)\n",
      "Прямоугольник 8:\n",
      "\tСторона X: [5.575 9.531)\n",
      "\tСторона Y: [-3.812  2.593)\n",
      "Прямоугольник 9:\n",
      "\tСторона X: [5.575 9.531)\n",
      "\tСторона Y: [2.593 8.997)\n"
     ]
    }
   ],
   "source": [
    "rectangles = []\n",
    "\n",
    "for side_X in J_X:\n",
    "    for side_Y in J_Y:\n",
    "        rectangles.append([side_X, side_Y])\n",
    "\n",
    "for (i, rectangle) in enumerate(rectangles):\n",
    "    print(f\"Прямоугольник {i + 1}:\\n\\t\" +\n",
    "          f\"Сторона X: [{str(np.round(rectangle[0], 3))[1:-1]})\\n\\t\" +\n",
    "          f\"Сторона Y: [{str(np.round(rectangle[1], 3))[1:-1]})\")"
   ]
  },
  {
   "cell_type": "markdown",
   "metadata": {},
   "source": [
    "Разбиваем на интервалы"
   ]
  },
  {
   "cell_type": "code",
   "execution_count": 23,
   "metadata": {},
   "outputs": [],
   "source": [
    "stat_series_rect = [[] for _ in range(len(rectangles))]\n",
    "\n",
    "for (xi, yi) in (vector_XY):\n",
    "    for (i, (side_X, side_Y)) in enumerate(rectangles):\n",
    "        if (side_X[0] <= xi < side_X[1]) and (side_Y[0] <= yi < side_Y[1]):\n",
    "            stat_series_rect[i].append((xi, yi))\n",
    "\n",
    "stat_series_rect[-1].append(vector_XY[vector_XY[:, 0].argmax()])\n",
    "stat_series_rect[-1].append(vector_XY[vector_XY[:, 1].argmax()])"
   ]
  },
  {
   "cell_type": "markdown",
   "metadata": {},
   "source": [
    "##### Посчитаем частоты"
   ]
  },
  {
   "cell_type": "code",
   "execution_count": 24,
   "metadata": {},
   "outputs": [
    {
     "name": "stdout",
     "output_type": "stream",
     "text": [
      "Частоты: [11, 49, 13, 64, 206, 54, 26, 61, 16]\n",
      "Сумма частот: 500\n",
      "\n",
      "Относительные частоты: [0.022, 0.098, 0.026, 0.128, 0.412, 0.108, 0.052, 0.122, 0.032]\n",
      "Сумма относительных частот: 1.0\n"
     ]
    }
   ],
   "source": [
    "frequencies_rect = []\n",
    "\n",
    "for rect in stat_series_rect:\n",
    "    frequencies_rect.append(len(rect))\n",
    "\n",
    "relative_frequencies_rect = [frequency / n for frequency in frequencies_rect]\n",
    "\n",
    "print(f\"Частоты: {frequencies_rect}\")\n",
    "print(f\"Сумма частот: {sum(frequencies_rect)}\", end=\"\\n\\n\")\n",
    "\n",
    "print(f\"Относительные частоты: {relative_frequencies_rect}\")\n",
    "print(f\"Сумма относительных частот: {sum(relative_frequencies_rect)}\")"
   ]
  },
  {
   "cell_type": "markdown",
   "metadata": {},
   "source": [
    "### 3.2.2 Ищем критерий независимости"
   ]
  },
  {
   "cell_type": "markdown",
   "metadata": {},
   "source": [
    "Для проверки гипотезы необходимо посчитать критерий независимости:\n",
    "$$\n",
    "    \\chi_n^2 = n \\Big( \\displaystyle\\sum^K_{i=1} \\displaystyle\\sum^L_{i=1} \\dfrac{\\nu^2_{ij}}{\\nu^X_i \\nu^Y_j}  - 1\\Big)\n",
    "$$\n",
    "\n",
    "где $K$ и $L$ - число интервалов для $X$ и $Y$ соотвественно\n",
    "<br/>$\\nu^X_i$ и $\\nu^Y_j$ - частоты интервалов $X$ и $Y$ соотвественно\n",
    "<br/>$\\nu_{ij}$ - частота прямоугольника со сторонами в виде $i$-го и $j$-го интервалов соотвественно"
   ]
  },
  {
   "cell_type": "code",
   "execution_count": 25,
   "metadata": {},
   "outputs": [
    {
     "name": "stdout",
     "output_type": "stream",
     "text": [
      "Критерий Пирсона: 2.903077924191866\n"
     ]
    }
   ],
   "source": [
    "sum_tmp = 0\n",
    "ij = 0\n",
    "\n",
    "for i in range(N):\n",
    "    for j in range(N):\n",
    "        sum_tmp += frequencies_rect[ij]**2 / (frequencies_X[i] * frequencies_Y[j])\n",
    "        ij += 1\n",
    "\n",
    "chi = n * (sum_tmp - 1)\n",
    "print(f\"Критерий Пирсона: {chi}\")"
   ]
  },
  {
   "cell_type": "markdown",
   "metadata": {},
   "source": [
    "### 3.2.3 Считаем пороговый критерий"
   ]
  },
  {
   "cell_type": "markdown",
   "metadata": {},
   "source": [
    "По заданной $\\alpha=0.05$ найдем порог для $\\chi^2_{1-\\alpha;N-1}$ по таблице Г.1 \n",
    "$$1-\\alpha=1-0.025=p=0.975$$\n",
    "$$(K - 1)(L - 1)=4$$\n",
    "\n",
    "Тогда по таблице $\\chi^2_{1-\\alpha;(K-1)(L-1)}=11.143$<br/>\n",
    "Так как: $$\\chi^2 < \\chi^2_{1-\\alpha;(K-1)(L-1)} \\Leftrightarrow 2.903 < 11.143 \\Rightarrow \\text{Гипотеза принимается}$$"
   ]
  },
  {
   "cell_type": "markdown",
   "metadata": {},
   "source": [
    "## 3.3 Найти эмпирические уравнения регрессии $Y$ на $X$ и $X$ на $Y$"
   ]
  },
  {
   "cell_type": "markdown",
   "metadata": {},
   "source": [
    "### 3.3.1 Уравнение $Y$ на  $X$"
   ]
  },
  {
   "cell_type": "markdown",
   "metadata": {},
   "source": [
    "Для двумерного нормального закона распределения уравнение регрессии принимает следующий вид:\n",
    "$$\\displaystyle\n",
    "    y - \\bar{y} = \\hat{r}_{XY} \\frac{S_Y}{S_X} (x - \\bar{x}) \\qquad \\text{для } Y \\text{ на } X\n",
    "$$\n",
    "$$\\displaystyle\n",
    "    x - \\bar{x} = \\hat{r}_{XY} \\frac{S_X}{S_Y} (y - \\bar{y}) \\qquad \\text{для } X \\text{ на } Y\n",
    "$$\n",
    "Запишем эти функции:"
   ]
  },
  {
   "cell_type": "code",
   "execution_count": 26,
   "metadata": {},
   "outputs": [],
   "source": [
    "def reg_Y_X(x):\n",
    "    res = sample_r\n",
    "    res *= (np.sqrt(sample_variance_Y) / np.sqrt(sample_variance_X))\n",
    "    res *= (x - sample_variance_X)\n",
    "    return res + sample_average_Y\n",
    "\n",
    "def reg_X_Y(y):\n",
    "    res = sample_r\n",
    "    res *= (np.sqrt(sample_variance_X) / np.sqrt(sample_variance_Y))\n",
    "    res *= (y - sample_variance_Y)\n",
    "    return res + sample_average_X"
   ]
  },
  {
   "cell_type": "markdown",
   "metadata": {},
   "source": [
    "### 3.3.2 Построим график"
   ]
  },
  {
   "cell_type": "code",
   "execution_count": 27,
   "metadata": {},
   "outputs": [
    {
     "name": "stdout",
     "output_type": "stream",
     "text": [
      "При коэффиценте корреляции: -0.05\n"
     ]
    },
    {
     "data": {
      "image/png": "[encoded data removed]",
      "text/plain": [
       "<Figure size 640x480 with 1 Axes>"
      ]
     },
     "metadata": {},
     "output_type": "display_data"
    }
   ],
   "source": [
    "print(f\"При коэффиценте корреляции: {r}\")\n",
    "plt.scatter(x, y, color=\"pink\", linewidth=3)\n",
    "plt.plot(np.linspace(-3, 10, 1000), list(map(reg_Y_X, np.linspace(-3, 10, 1000))), color=\"blue\", linewidth=3)\n",
    "plt.plot(np.linspace(-3, 10, 1000), list(map(reg_X_Y, np.linspace(-3, 10, 1000))), color=\"red\",  linewidth=3)\n",
    "plt.show()"
   ]
  },
  {
   "cell_type": "markdown",
   "metadata": {},
   "source": [
    "### 3.3.3 Наблюдения"
   ]
  },
  {
   "cell_type": "markdown",
   "metadata": {},
   "source": [
    "При изменении коэффицента корреляции меняется и график.<br/><br/>\n",
    "Например:\n",
    "<br/>&emsp;При $r_{XY}=0.8$:<br/> ![r=0.8](r_coef_08.png)\n",
    "<br/>&emsp;При $r_{XY}=0.9$:<br/> ![r=0.9](r_coef_09.png)\n",
    "<br/>&emsp;При $r_{XY}=0.95$:<br/> ![r=0.95](r_coef_095.png)\n",
    "<br/>&emsp;При $r_{XY}=0.99$:<br/> ![r=0.99](r_coef_099.png)\n",
    "<br/><br/><br/>\n",
    "Как видно при приближении $r_{XY}$ к 1, значения случайной величины кучкуются около функций регрессии."
   ]
  }
 ],
 "metadata": {
  "kernelspec": {
   "display_name": "venv",
   "language": "python",
   "name": "python3"
  },
  "language_info": {
   "codemirror_mode": {
    "name": "ipython",
    "version": 3
   },
   "file_extension": ".py",
   "mimetype": "text/x-python",
   "name": "python",
   "nbconvert_exporter": "python",
   "pygments_lexer": "ipython3",
   "version": "3.12.1"
  }
 },
 "nbformat": 4,
 "nbformat_minor": 2
}
